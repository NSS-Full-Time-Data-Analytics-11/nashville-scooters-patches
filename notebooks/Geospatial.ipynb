{
 "cells": [
  {
   "cell_type": "code",
   "execution_count": 1,
   "id": "21afb051-5541-4f88-9127-12d6eca14dd4",
   "metadata": {},
   "outputs": [],
   "source": [
    "import pandas as pd\n",
    "from shapely.geometry import Point\n",
    "import geopandas as gpd\n",
    "import matplotlib.pyplot as plt\n",
    "import folium\n",
    "from folium.plugins import MarkerCluster\n",
    "from folium.plugins import FastMarkerCluster"
   ]
  },
  {
   "cell_type": "code",
   "execution_count": 5,
   "id": "0cbbb8cb-2025-4a71-ae36-97876f529020",
   "metadata": {},
   "outputs": [],
   "source": [
    "tripsbird = pd.read_csv('../data/scooter_trips_bird.csv')"
   ]
  },
  {
   "cell_type": "code",
   "execution_count": null,
   "id": "310f0d87-55b6-42fe-a316-a944b0b73298",
   "metadata": {},
   "outputs": [],
   "source": []
  }
 ],
 "metadata": {
  "kernelspec": {
   "display_name": "Python 3 (ipykernel)",
   "language": "python",
   "name": "python3"
  },
  "language_info": {
   "codemirror_mode": {
    "name": "ipython",
    "version": 3
   },
   "file_extension": ".py",
   "mimetype": "text/x-python",
   "name": "python",
   "nbconvert_exporter": "python",
   "pygments_lexer": "ipython3",
   "version": "3.10.13"
  }
 },
 "nbformat": 4,
 "nbformat_minor": 5
}
