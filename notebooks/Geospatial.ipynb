{
 "cells": [
  {
   "cell_type": "code",
   "execution_count": null,
   "id": "21afb051-5541-4f88-9127-12d6eca14dd4",
   "metadata": {},
   "outputs": [],
   "source": [
    "import pandas as pd\n",
    "from shapely.geometry import Point\n",
    "import geopandas as gpd\n",
    "import matplotlib.pyplot as plt\n",
    "import folium\n",
    "from folium.plugins import MarkerCluster\n",
    "from folium.plugins import FastMarkerCluster"
   ]
  },
  {
   "cell_type": "code",
   "execution_count": null,
   "id": "0cbbb8cb-2025-4a71-ae36-97876f529020",
   "metadata": {},
   "outputs": [],
   "source": [
    "tripsbird = pd.read_csv('../data/scooter_trips_bird.csv')"
   ]
  },
  {
   "cell_type": "code",
   "execution_count": null,
   "id": "53bf2555-71cc-46c0-8d80-388950169f93",
   "metadata": {},
   "outputs": [],
   "source": [
    "zipcodes = gpd.read_file('../data/zipcodes.geojson')\n",
    "#saved as a geo dataframe (special geometry column)\n",
    "print(zipcodes.crs)\n",
    "zipcodes.head( )"
   ]
  },
  {
   "cell_type": "code",
   "execution_count": null,
   "id": "c08c5889-b44b-477d-bc18-e69ced002c58",
   "metadata": {},
   "outputs": [],
   "source": [
    "tripsbird.head()"
   ]
  },
  {
   "cell_type": "code",
   "execution_count": null,
   "id": "3c032a53-84db-49b1-a282-3c5e1417b679",
   "metadata": {},
   "outputs": [],
   "source": [
    "top_50_points = tripsbird.sort_values('tripdistance', ascending = False).head(50)"
   ]
  },
  {
   "cell_type": "code",
   "execution_count": null,
   "id": "310f0d87-55b6-42fe-a316-a944b0b73298",
   "metadata": {},
   "outputs": [],
   "source": [
    "top_50_points['startgeometry'] = top_50_points.apply(lambda x: Point((float(x.startlongitude), \n",
    "                                                         float(x.startlatitude))), \n",
    "                                        axis=1)\n",
    "top_50_points.head(3)"
   ]
  },
  {
   "cell_type": "code",
   "execution_count": null,
   "id": "9f16452c-bc3e-4adf-8c0d-8e41b30e9fc9",
   "metadata": {},
   "outputs": [],
   "source": [
    "top_50_points['endgeometry'] = tripsbird.apply(lambda x: Point((float(x.endlongitude), \n",
    "                                                         float(x.endlatitude))), \n",
    "                                        axis=1)\n",
    "top_50_points.head(3)"
   ]
  },
  {
   "cell_type": "code",
   "execution_count": null,
   "id": "313e616e-cd55-4060-83b9-02a6b42197db",
   "metadata": {},
   "outputs": [],
   "source": [
    "top_start = top_50_points[['startlatitude', 'startlongitude']].copy()"
   ]
  },
  {
   "cell_type": "code",
   "execution_count": null,
   "id": "8ab16fa0-da8a-4e60-8964-fd7e0abe8a9d",
   "metadata": {},
   "outputs": [],
   "source": [
    "top_start['type'] = 'start'"
   ]
  },
  {
   "cell_type": "code",
   "execution_count": null,
   "id": "eeaae40e-ee92-4d73-9868-3206cd7e5aee",
   "metadata": {},
   "outputs": [],
   "source": [
    "top_start = top_start.rename(columns = {'startlatitude': 'latitude', 'startlongitude': 'longitude'})"
   ]
  },
  {
   "cell_type": "code",
   "execution_count": null,
   "id": "36d2a5a4-c8b6-4675-9d7c-f7000d3c72cf",
   "metadata": {},
   "outputs": [],
   "source": [
    "top_end = top_50_points[['endlatitude', 'endlongitude']].copy()"
   ]
  },
  {
   "cell_type": "code",
   "execution_count": null,
   "id": "bb7fce05-474d-4f97-8c3b-6206da58cf3c",
   "metadata": {},
   "outputs": [],
   "source": [
    "top_end['type'] = 'end'"
   ]
  },
  {
   "cell_type": "code",
   "execution_count": null,
   "id": "5c33f160-c1cb-4151-8640-967cc09ef768",
   "metadata": {},
   "outputs": [],
   "source": [
    "top_end = top_end.rename(columns = {'endlatitude': 'latitude', 'endlongitude': 'longitude'})"
   ]
  },
  {
   "cell_type": "code",
   "execution_count": null,
   "id": "e6f98b2f-8480-4797-a645-149d65cc2be9",
   "metadata": {},
   "outputs": [],
   "source": [
    "top_end"
   ]
  },
  {
   "cell_type": "code",
   "execution_count": null,
   "id": "f862e294-8131-45ae-8a1f-74769f255b20",
   "metadata": {},
   "outputs": [],
   "source": [
    "test = folium.Map(location = (top_latlong.loc[0,'latitude'], top_latlong.loc[0,'longitude']), zoom_start = 12)\n",
    "\n",
    "for row_index, row_values in top_latlong.iterrows():\n",
    "    if row_values['type'] == 'start':\n",
    "        marker = folium.Marker(\n",
    "            location = [row_values['geometry'].y, row_values['geometry'].x],\n",
    "            popup = row_values['type'], icon = folium.Icon(color = 'green', icon = 'play', prefix = 'fa'))\n",
    "        marker.add_to(test)\n",
    "    if row_values['type'] == 'end':\n",
    "        marker = folium.Marker(\n",
    "            location = [row_values['geometry'].y, row_values['geometry'].x],\n",
    "            popup = row_values['type'], icon = folium.Icon(color = 'red', icon = 'stop', prefix = 'fa'))\n",
    "        marker.add_to(test)\n",
    "\n",
    "test\n",
    "        "
   ]
  },
  {
   "cell_type": "code",
   "execution_count": null,
   "id": "09a2cfac-ab5f-4ed8-8860-c111c909f6e8",
   "metadata": {},
   "outputs": [],
   "source": [
    "top_latlong = pd.concat([top_start, top_end])"
   ]
  },
  {
   "cell_type": "code",
   "execution_count": null,
   "id": "a1c94f5f-6a75-41fc-8d31-8da7347b742e",
   "metadata": {},
   "outputs": [],
   "source": []
  },
  {
   "cell_type": "code",
   "execution_count": null,
   "id": "be70adaf-7748-4ef2-90be-1f68f2a0fdfe",
   "metadata": {},
   "outputs": [],
   "source": [
    "zipcodes.crs"
   ]
  },
  {
   "cell_type": "code",
   "execution_count": null,
   "id": "cf8b0356-70e3-443a-8b8b-e967ea03b929",
   "metadata": {},
   "outputs": [],
   "source": [
    "tripbird_geo = gpd.GeoDataFrame(top_latlong, \n",
    "                           crs = zipcodes.crs, \n",
    "                           geometry = top_latlong['geometry'])"
   ]
  },
  {
   "cell_type": "code",
   "execution_count": null,
   "id": "050b8b64-d7eb-48d4-8297-140cff38c73f",
   "metadata": {},
   "outputs": [],
   "source": [
    "zipcodes = zipcodes[['zip', 'po_name', 'geometry']]"
   ]
  },
  {
   "cell_type": "code",
   "execution_count": null,
   "id": "fb9bdbb1-87eb-4f51-bd1f-7213b123fc22",
   "metadata": {},
   "outputs": [],
   "source": [
    "startpoint_by_zip = gpd.sjoin(tripbird_geo, zipcodes, op = 'within')"
   ]
  },
  {
   "cell_type": "code",
   "execution_count": null,
   "id": "61e67f83-3401-4311-a38b-246b5c106a38",
   "metadata": {
    "scrolled": true
   },
   "outputs": [],
   "source": [
    "#fig, ax = matplotlib.subplots()\n",
    "ax = zipcodes.plot(figsize = (8, 10), color = 'lightgreen')\n",
    "startpoint_by_zip.plot( ax = ax, column = 'triprecordnum');\n",
    "plt.show();"
   ]
  },
  {
   "cell_type": "code",
   "execution_count": null,
   "id": "6f653268-343b-40f5-80cb-481663f36416",
   "metadata": {},
   "outputs": [],
   "source": [
    "center = zipcodes.geometry.centroid[27]\n",
    "print(center)\n",
    "type(center)"
   ]
  },
  {
   "cell_type": "code",
   "execution_count": null,
   "id": "03353663-fb15-4de9-8a31-d7507d445af5",
   "metadata": {},
   "outputs": [],
   "source": [
    "area_center = list([center.y, center.x])\n",
    "\n",
    "print(area_center)"
   ]
  },
  {
   "cell_type": "code",
   "execution_count": null,
   "id": "318a1abe-5a5b-45c3-9198-e4d6de0ba33e",
   "metadata": {},
   "outputs": [],
   "source": [
    "map_nash = folium.Map(location = area_center, zoom_start = 12)"
   ]
  },
  {
   "cell_type": "code",
   "execution_count": null,
   "id": "f2cbcce6-5ef7-463c-bfa3-bc91da90b3db",
   "metadata": {},
   "outputs": [],
   "source": [
    "i = 0\n",
    "for row_index, row_values in startpoint_by_zip.iterrows():\n",
    "    if i <3: \n",
    "        print('index is', row_index)\n",
    "        print('values are:')\n",
    "        print(' ')\n",
    "        print(row_values)\n",
    "        print('------------------------- ')\n",
    "        i+=1"
   ]
  },
  {
   "cell_type": "code",
   "execution_count": null,
   "id": "3a2844f2-d332-4971-a3a6-906b1e0bdb6c",
   "metadata": {},
   "outputs": [],
   "source": [
    "map_nash = folium.Map(location =  area_center, zoom_start = 12)\n",
    "\n",
    "folium.GeoJson(zipcodes).add_to(map_nash)\n",
    "\n",
    "#iterate through stops_in_37207 to create locations and markers \n",
    "#for each bus stop\n",
    "#remember for Folium locations, lat is listed first!!\n",
    "\n",
    "for row_index, row_values in top_latlong.iterrows():\n",
    "    loc = [row_values['latitude'], row_values['longitude']]\n",
    "    pop = str(row_values['type'])\n",
    "    icon=folium.Icon(color=\"green\",icon=\"scooter\", prefix='fa')\n",
    "    \n",
    "    marker = folium.Marker(\n",
    "        location = loc, \n",
    "        popup = pop, icon = icon) \n",
    "\n",
    "    marker.add_to(map_nash)\n",
    "map_nash\n",
    "\n",
    "#map_nash.save('../data/map_nash.html')"
   ]
  },
  {
   "cell_type": "code",
   "execution_count": null,
   "id": "7e7b86ee-0994-4c69-a57a-05939cc8bc4f",
   "metadata": {},
   "outputs": [],
   "source": [
    "#create a marker cluster\n",
    "marker_cluster = MarkerCluster().add_to(map_nash)\n",
    "\n",
    "folium.GeoJson(zipcodes).add_to(map_nash)\n",
    "\n",
    "# inside the loop add each marker to the cluster\n",
    "for row_index, row_values in startpoint_by_zip.iterrows():\n",
    "    loc = [row_values['startlatitude'], row_values['startlongitude']]\n",
    "    pop = str(row_values['triprecordnum'])\n",
    "    icon=folium.Icon(color=\"blue\",icon=\"scooter\", prefix='fa')\n",
    "    \n",
    "    marker = folium.Marker(\n",
    "        location = loc, \n",
    "        popup = pop,\n",
    "    icon = icon) \n",
    "    \n",
    "    marker.add_to(marker_cluster)\n",
    "marker_cluster\n",
    "marker_cluster.save('../data/marker_cluster.html')"
   ]
  },
  {
   "cell_type": "code",
   "execution_count": null,
   "id": "b67c8312-ac29-4c29-8a0f-485df636bc31",
   "metadata": {},
   "outputs": [],
   "source": []
  }
 ],
 "metadata": {
  "kernelspec": {
   "display_name": "Python 3 (ipykernel)",
   "language": "python",
   "name": "python3"
  },
  "language_info": {
   "codemirror_mode": {
    "name": "ipython",
    "version": 3
   },
   "file_extension": ".py",
   "mimetype": "text/x-python",
   "name": "python",
   "nbconvert_exporter": "python",
   "pygments_lexer": "ipython3",
   "version": "3.11.5"
  }
 },
 "nbformat": 4,
 "nbformat_minor": 5
}
